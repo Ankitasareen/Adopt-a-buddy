{
 "cells": [
  {
   "cell_type": "code",
   "execution_count": 1,
   "metadata": {},
   "outputs": [],
   "source": [
    "\n",
    "import numpy as np # linear algebra\n",
    "import pandas as pd # data processing, CSV file I/O (e.g. pd.read_csv)\n",
    "import seaborn as sns\n",
    "import matplotlib.pyplot as plt\n",
    "from sklearn.preprocessing import LabelEncoder\n",
    "from sklearn.ensemble import RandomForestClassifier"
   ]
  },
  {
   "cell_type": "code",
   "execution_count": 2,
   "metadata": {},
   "outputs": [],
   "source": [
    "\n",
    "train= pd.read_csv(\"train.csv\")\n",
    "test=pd.read_csv(\"test.csv\")"
   ]
  },
  {
   "cell_type": "code",
   "execution_count": 3,
   "metadata": {},
   "outputs": [
    {
     "data": {
      "text/html": [
       "<div>\n",
       "<style scoped>\n",
       "    .dataframe tbody tr th:only-of-type {\n",
       "        vertical-align: middle;\n",
       "    }\n",
       "\n",
       "    .dataframe tbody tr th {\n",
       "        vertical-align: top;\n",
       "    }\n",
       "\n",
       "    .dataframe thead th {\n",
       "        text-align: right;\n",
       "    }\n",
       "</style>\n",
       "<table border=\"1\" class=\"dataframe\">\n",
       "  <thead>\n",
       "    <tr style=\"text-align: right;\">\n",
       "      <th></th>\n",
       "      <th>pet_id</th>\n",
       "      <th>issue_date</th>\n",
       "      <th>listing_date</th>\n",
       "      <th>condition</th>\n",
       "      <th>color_type</th>\n",
       "      <th>length(m)</th>\n",
       "      <th>height(cm)</th>\n",
       "      <th>X1</th>\n",
       "      <th>X2</th>\n",
       "      <th>breed_category</th>\n",
       "      <th>pet_category</th>\n",
       "    </tr>\n",
       "  </thead>\n",
       "  <tbody>\n",
       "    <tr>\n",
       "      <th>0</th>\n",
       "      <td>ANSL_69903</td>\n",
       "      <td>2016-07-10 00:00:00</td>\n",
       "      <td>2016-09-21 16:25:00</td>\n",
       "      <td>2.0</td>\n",
       "      <td>Brown Tabby</td>\n",
       "      <td>0.80</td>\n",
       "      <td>7.78</td>\n",
       "      <td>13</td>\n",
       "      <td>9</td>\n",
       "      <td>0.0</td>\n",
       "      <td>1</td>\n",
       "    </tr>\n",
       "    <tr>\n",
       "      <th>1</th>\n",
       "      <td>ANSL_66892</td>\n",
       "      <td>2013-11-21 00:00:00</td>\n",
       "      <td>2018-12-27 17:47:00</td>\n",
       "      <td>1.0</td>\n",
       "      <td>White</td>\n",
       "      <td>0.72</td>\n",
       "      <td>14.19</td>\n",
       "      <td>13</td>\n",
       "      <td>9</td>\n",
       "      <td>0.0</td>\n",
       "      <td>2</td>\n",
       "    </tr>\n",
       "    <tr>\n",
       "      <th>2</th>\n",
       "      <td>ANSL_69750</td>\n",
       "      <td>2014-09-28 00:00:00</td>\n",
       "      <td>2016-10-19 08:24:00</td>\n",
       "      <td>NaN</td>\n",
       "      <td>Brown</td>\n",
       "      <td>0.15</td>\n",
       "      <td>40.90</td>\n",
       "      <td>15</td>\n",
       "      <td>4</td>\n",
       "      <td>2.0</td>\n",
       "      <td>4</td>\n",
       "    </tr>\n",
       "    <tr>\n",
       "      <th>3</th>\n",
       "      <td>ANSL_71623</td>\n",
       "      <td>2016-12-31 00:00:00</td>\n",
       "      <td>2019-01-25 18:30:00</td>\n",
       "      <td>1.0</td>\n",
       "      <td>White</td>\n",
       "      <td>0.62</td>\n",
       "      <td>17.82</td>\n",
       "      <td>0</td>\n",
       "      <td>1</td>\n",
       "      <td>0.0</td>\n",
       "      <td>2</td>\n",
       "    </tr>\n",
       "    <tr>\n",
       "      <th>4</th>\n",
       "      <td>ANSL_57969</td>\n",
       "      <td>2017-09-28 00:00:00</td>\n",
       "      <td>2017-11-19 09:38:00</td>\n",
       "      <td>2.0</td>\n",
       "      <td>Black</td>\n",
       "      <td>0.50</td>\n",
       "      <td>11.06</td>\n",
       "      <td>18</td>\n",
       "      <td>4</td>\n",
       "      <td>0.0</td>\n",
       "      <td>1</td>\n",
       "    </tr>\n",
       "  </tbody>\n",
       "</table>\n",
       "</div>"
      ],
      "text/plain": [
       "       pet_id           issue_date         listing_date  condition  \\\n",
       "0  ANSL_69903  2016-07-10 00:00:00  2016-09-21 16:25:00        2.0   \n",
       "1  ANSL_66892  2013-11-21 00:00:00  2018-12-27 17:47:00        1.0   \n",
       "2  ANSL_69750  2014-09-28 00:00:00  2016-10-19 08:24:00        NaN   \n",
       "3  ANSL_71623  2016-12-31 00:00:00  2019-01-25 18:30:00        1.0   \n",
       "4  ANSL_57969  2017-09-28 00:00:00  2017-11-19 09:38:00        2.0   \n",
       "\n",
       "    color_type  length(m)  height(cm)  X1  X2  breed_category  pet_category  \n",
       "0  Brown Tabby       0.80        7.78  13   9             0.0             1  \n",
       "1        White       0.72       14.19  13   9             0.0             2  \n",
       "2        Brown       0.15       40.90  15   4             2.0             4  \n",
       "3        White       0.62       17.82   0   1             0.0             2  \n",
       "4        Black       0.50       11.06  18   4             0.0             1  "
      ]
     },
     "execution_count": 3,
     "metadata": {},
     "output_type": "execute_result"
    }
   ],
   "source": [
    "train.head()"
   ]
  },
  {
   "cell_type": "code",
   "execution_count": 4,
   "metadata": {},
   "outputs": [
    {
     "data": {
      "text/html": [
       "<div>\n",
       "<style scoped>\n",
       "    .dataframe tbody tr th:only-of-type {\n",
       "        vertical-align: middle;\n",
       "    }\n",
       "\n",
       "    .dataframe tbody tr th {\n",
       "        vertical-align: top;\n",
       "    }\n",
       "\n",
       "    .dataframe thead th {\n",
       "        text-align: right;\n",
       "    }\n",
       "</style>\n",
       "<table border=\"1\" class=\"dataframe\">\n",
       "  <thead>\n",
       "    <tr style=\"text-align: right;\">\n",
       "      <th></th>\n",
       "      <th>pet_id</th>\n",
       "      <th>issue_date</th>\n",
       "      <th>listing_date</th>\n",
       "      <th>condition</th>\n",
       "      <th>color_type</th>\n",
       "      <th>length(m)</th>\n",
       "      <th>height(cm)</th>\n",
       "      <th>X1</th>\n",
       "      <th>X2</th>\n",
       "    </tr>\n",
       "  </thead>\n",
       "  <tbody>\n",
       "    <tr>\n",
       "      <th>0</th>\n",
       "      <td>ANSL_75005</td>\n",
       "      <td>2005-08-17 00:00:00</td>\n",
       "      <td>2017-09-07 15:35:00</td>\n",
       "      <td>0.0</td>\n",
       "      <td>Black</td>\n",
       "      <td>0.87</td>\n",
       "      <td>42.73</td>\n",
       "      <td>0</td>\n",
       "      <td>7</td>\n",
       "    </tr>\n",
       "    <tr>\n",
       "      <th>1</th>\n",
       "      <td>ANSL_76663</td>\n",
       "      <td>2018-11-15 00:00:00</td>\n",
       "      <td>2019-05-08 17:24:00</td>\n",
       "      <td>1.0</td>\n",
       "      <td>Orange Tabby</td>\n",
       "      <td>0.06</td>\n",
       "      <td>6.71</td>\n",
       "      <td>0</td>\n",
       "      <td>1</td>\n",
       "    </tr>\n",
       "    <tr>\n",
       "      <th>2</th>\n",
       "      <td>ANSL_58259</td>\n",
       "      <td>2012-10-11 00:00:00</td>\n",
       "      <td>2018-04-02 16:51:00</td>\n",
       "      <td>1.0</td>\n",
       "      <td>Black</td>\n",
       "      <td>0.24</td>\n",
       "      <td>41.21</td>\n",
       "      <td>0</td>\n",
       "      <td>7</td>\n",
       "    </tr>\n",
       "    <tr>\n",
       "      <th>3</th>\n",
       "      <td>ANSL_67171</td>\n",
       "      <td>2015-02-13 00:00:00</td>\n",
       "      <td>2018-04-06 07:25:00</td>\n",
       "      <td>1.0</td>\n",
       "      <td>Black</td>\n",
       "      <td>0.29</td>\n",
       "      <td>8.46</td>\n",
       "      <td>7</td>\n",
       "      <td>1</td>\n",
       "    </tr>\n",
       "    <tr>\n",
       "      <th>4</th>\n",
       "      <td>ANSL_72871</td>\n",
       "      <td>2017-01-18 00:00:00</td>\n",
       "      <td>2018-04-26 13:42:00</td>\n",
       "      <td>1.0</td>\n",
       "      <td>Brown</td>\n",
       "      <td>0.71</td>\n",
       "      <td>30.92</td>\n",
       "      <td>0</td>\n",
       "      <td>7</td>\n",
       "    </tr>\n",
       "  </tbody>\n",
       "</table>\n",
       "</div>"
      ],
      "text/plain": [
       "       pet_id           issue_date         listing_date  condition  \\\n",
       "0  ANSL_75005  2005-08-17 00:00:00  2017-09-07 15:35:00        0.0   \n",
       "1  ANSL_76663  2018-11-15 00:00:00  2019-05-08 17:24:00        1.0   \n",
       "2  ANSL_58259  2012-10-11 00:00:00  2018-04-02 16:51:00        1.0   \n",
       "3  ANSL_67171  2015-02-13 00:00:00  2018-04-06 07:25:00        1.0   \n",
       "4  ANSL_72871  2017-01-18 00:00:00  2018-04-26 13:42:00        1.0   \n",
       "\n",
       "     color_type  length(m)  height(cm)  X1  X2  \n",
       "0         Black       0.87       42.73   0   7  \n",
       "1  Orange Tabby       0.06        6.71   0   1  \n",
       "2         Black       0.24       41.21   0   7  \n",
       "3         Black       0.29        8.46   7   1  \n",
       "4         Brown       0.71       30.92   0   7  "
      ]
     },
     "execution_count": 4,
     "metadata": {},
     "output_type": "execute_result"
    }
   ],
   "source": [
    "test.head()"
   ]
  },
  {
   "cell_type": "markdown",
   "metadata": {},
   "source": [
    "# Data Preprocessing and EDA "
   ]
  },
  {
   "cell_type": "code",
   "execution_count": 5,
   "metadata": {},
   "outputs": [],
   "source": [
    "#changing it to date time train\n",
    "train[\"issue_date\"]=pd.to_datetime(train[\"issue_date\"],format='%Y-%m-%d')\n",
    "train[\"listing_date\"]=pd.to_datetime(train[\"listing_date\"],format='%Y-%m-%d')\n",
    "\n",
    "\n",
    "#changing it to date time test\n",
    "test[\"issue_date\"]=pd.to_datetime(test[\"issue_date\"],format='%Y-%m-%d')\n",
    "test[\"listing_date\"]=pd.to_datetime(test[\"listing_date\"],format='%Y-%m-%d')\n",
    "\n",
    "#date difference between  \n",
    "train[\"days_stayed\"]=train[\"listing_date\"]-train[\"issue_date\"]\n",
    "test[\"days_stayed\"]=test[\"listing_date\"]-test[\"issue_date\"]"
   ]
  },
  {
   "cell_type": "code",
   "execution_count": 6,
   "metadata": {},
   "outputs": [],
   "source": [
    "#making the days features\n",
    "# train[\"days_stayed\"]=train[\"days_stayed\"].str.replace(\"days\",\"-\")\n",
    "# test[\"days_stayed\"]=test[\"days_stayed\"].str.replace(\"days\",\"-\")\n",
    "\n",
    "#getting the days from the difference time\n",
    "train[\"total_days_stayed\"]=train[\"days_stayed\"].dt.days\n",
    "test[\"total_days_stayed\"]=test[\"days_stayed\"].dt.days\n",
    "\n",
    "#getting the hours from the date\n",
    "train[\"total_hours_stayed\"]=round(((train[\"days_stayed\"].dt.seconds)/60)/60,2)\n",
    "test[\"total_hours_stayed\"]=round(((test[\"days_stayed\"].dt.seconds)/60)/60,2)"
   ]
  },
  {
   "cell_type": "code",
   "execution_count": 7,
   "metadata": {},
   "outputs": [
    {
     "data": {
      "text/html": [
       "<div>\n",
       "<style scoped>\n",
       "    .dataframe tbody tr th:only-of-type {\n",
       "        vertical-align: middle;\n",
       "    }\n",
       "\n",
       "    .dataframe tbody tr th {\n",
       "        vertical-align: top;\n",
       "    }\n",
       "\n",
       "    .dataframe thead th {\n",
       "        text-align: right;\n",
       "    }\n",
       "</style>\n",
       "<table border=\"1\" class=\"dataframe\">\n",
       "  <thead>\n",
       "    <tr style=\"text-align: right;\">\n",
       "      <th></th>\n",
       "      <th>pet_id</th>\n",
       "      <th>issue_date</th>\n",
       "      <th>listing_date</th>\n",
       "      <th>condition</th>\n",
       "      <th>color_type</th>\n",
       "      <th>length(m)</th>\n",
       "      <th>height(cm)</th>\n",
       "      <th>X1</th>\n",
       "      <th>X2</th>\n",
       "      <th>breed_category</th>\n",
       "      <th>pet_category</th>\n",
       "      <th>days_stayed</th>\n",
       "      <th>total_days_stayed</th>\n",
       "      <th>total_hours_stayed</th>\n",
       "    </tr>\n",
       "  </thead>\n",
       "  <tbody>\n",
       "    <tr>\n",
       "      <th>0</th>\n",
       "      <td>ANSL_69903</td>\n",
       "      <td>2016-07-10</td>\n",
       "      <td>2016-09-21 16:25:00</td>\n",
       "      <td>2.0</td>\n",
       "      <td>Brown Tabby</td>\n",
       "      <td>0.80</td>\n",
       "      <td>7.78</td>\n",
       "      <td>13</td>\n",
       "      <td>9</td>\n",
       "      <td>0.0</td>\n",
       "      <td>1</td>\n",
       "      <td>73 days 16:25:00</td>\n",
       "      <td>73</td>\n",
       "      <td>16.42</td>\n",
       "    </tr>\n",
       "    <tr>\n",
       "      <th>1</th>\n",
       "      <td>ANSL_66892</td>\n",
       "      <td>2013-11-21</td>\n",
       "      <td>2018-12-27 17:47:00</td>\n",
       "      <td>1.0</td>\n",
       "      <td>White</td>\n",
       "      <td>0.72</td>\n",
       "      <td>14.19</td>\n",
       "      <td>13</td>\n",
       "      <td>9</td>\n",
       "      <td>0.0</td>\n",
       "      <td>2</td>\n",
       "      <td>1862 days 17:47:00</td>\n",
       "      <td>1862</td>\n",
       "      <td>17.78</td>\n",
       "    </tr>\n",
       "    <tr>\n",
       "      <th>2</th>\n",
       "      <td>ANSL_69750</td>\n",
       "      <td>2014-09-28</td>\n",
       "      <td>2016-10-19 08:24:00</td>\n",
       "      <td>NaN</td>\n",
       "      <td>Brown</td>\n",
       "      <td>0.15</td>\n",
       "      <td>40.90</td>\n",
       "      <td>15</td>\n",
       "      <td>4</td>\n",
       "      <td>2.0</td>\n",
       "      <td>4</td>\n",
       "      <td>752 days 08:24:00</td>\n",
       "      <td>752</td>\n",
       "      <td>8.40</td>\n",
       "    </tr>\n",
       "    <tr>\n",
       "      <th>3</th>\n",
       "      <td>ANSL_71623</td>\n",
       "      <td>2016-12-31</td>\n",
       "      <td>2019-01-25 18:30:00</td>\n",
       "      <td>1.0</td>\n",
       "      <td>White</td>\n",
       "      <td>0.62</td>\n",
       "      <td>17.82</td>\n",
       "      <td>0</td>\n",
       "      <td>1</td>\n",
       "      <td>0.0</td>\n",
       "      <td>2</td>\n",
       "      <td>755 days 18:30:00</td>\n",
       "      <td>755</td>\n",
       "      <td>18.50</td>\n",
       "    </tr>\n",
       "    <tr>\n",
       "      <th>4</th>\n",
       "      <td>ANSL_57969</td>\n",
       "      <td>2017-09-28</td>\n",
       "      <td>2017-11-19 09:38:00</td>\n",
       "      <td>2.0</td>\n",
       "      <td>Black</td>\n",
       "      <td>0.50</td>\n",
       "      <td>11.06</td>\n",
       "      <td>18</td>\n",
       "      <td>4</td>\n",
       "      <td>0.0</td>\n",
       "      <td>1</td>\n",
       "      <td>52 days 09:38:00</td>\n",
       "      <td>52</td>\n",
       "      <td>9.63</td>\n",
       "    </tr>\n",
       "  </tbody>\n",
       "</table>\n",
       "</div>"
      ],
      "text/plain": [
       "       pet_id issue_date        listing_date  condition   color_type  \\\n",
       "0  ANSL_69903 2016-07-10 2016-09-21 16:25:00        2.0  Brown Tabby   \n",
       "1  ANSL_66892 2013-11-21 2018-12-27 17:47:00        1.0        White   \n",
       "2  ANSL_69750 2014-09-28 2016-10-19 08:24:00        NaN        Brown   \n",
       "3  ANSL_71623 2016-12-31 2019-01-25 18:30:00        1.0        White   \n",
       "4  ANSL_57969 2017-09-28 2017-11-19 09:38:00        2.0        Black   \n",
       "\n",
       "   length(m)  height(cm)  X1  X2  breed_category  pet_category  \\\n",
       "0       0.80        7.78  13   9             0.0             1   \n",
       "1       0.72       14.19  13   9             0.0             2   \n",
       "2       0.15       40.90  15   4             2.0             4   \n",
       "3       0.62       17.82   0   1             0.0             2   \n",
       "4       0.50       11.06  18   4             0.0             1   \n",
       "\n",
       "         days_stayed  total_days_stayed  total_hours_stayed  \n",
       "0   73 days 16:25:00                 73               16.42  \n",
       "1 1862 days 17:47:00               1862               17.78  \n",
       "2  752 days 08:24:00                752                8.40  \n",
       "3  755 days 18:30:00                755               18.50  \n",
       "4   52 days 09:38:00                 52                9.63  "
      ]
     },
     "execution_count": 7,
     "metadata": {},
     "output_type": "execute_result"
    }
   ],
   "source": [
    "train.head()"
   ]
  },
  {
   "cell_type": "code",
   "execution_count": 8,
   "metadata": {},
   "outputs": [],
   "source": [
    "#checking the values if there is any null value and forming a new column.\n",
    "train[\"condition_is_missing\"]=train[\"condition\"].isnull()\n",
    "test[\"condition_is_missing\"]=test[\"condition\"].isnull()"
   ]
  },
  {
   "cell_type": "code",
   "execution_count": 9,
   "metadata": {},
   "outputs": [],
   "source": [
    "train[\"condition_is_missing\"]=np.where(train[\"condition_is_missing\"]==True,1,0)\n",
    "test[\"condition_is_missing\"]=np.where(test[\"condition_is_missing\"]==True,1,0)"
   ]
  },
  {
   "cell_type": "code",
   "execution_count": 10,
   "metadata": {},
   "outputs": [],
   "source": [
    "#encoding for the categorical variable.\n",
    "le=LabelEncoder()\n",
    "le.fit(train[\"color_type\"])\n",
    "\n",
    "train[\"color_type\"]=le.transform(train[\"color_type\"])\n",
    "test[\"color_type\"]=le.transform(test[\"color_type\"])\n",
    "\n",
    "#filling missing values in the conditions\n",
    "train[\"condition\"].fillna(3,inplace=True)\n",
    "test[\"condition\"].fillna(3,inplace=True)"
   ]
  },
  {
   "cell_type": "code",
   "execution_count": 12,
   "metadata": {},
   "outputs": [
    {
     "data": {
      "image/png": "[encoded data removed]",
      "text/plain": [
       "<Figure size 1080x432 with 3 Axes>"
      ]
     },
     "metadata": {
      "needs_background": "light"
     },
     "output_type": "display_data"
    }
   ],
   "source": [
    "#checking for the distribution and skewness if any in the continuous variable.\n",
    "cols = [\"length(m)\",\"height(cm)\",\"total_days_stayed\"]\n",
    "fig, ax = plt.subplots(1,3,figsize=(15,6),squeeze=False)\n",
    "for i in np.arange(3):\n",
    "    sns.distplot(train[cols[i]], ax=ax[0][i], color=\"green\")\n",
    "plt.show()"
   ]
  },
  {
   "cell_type": "code",
   "execution_count": 13,
   "metadata": {},
   "outputs": [
    {
     "name": "stderr",
     "output_type": "stream",
     "text": [
      "C:\\Users\\HP\\anaconda3\\lib\\site-packages\\pandas\\core\\series.py:679: RuntimeWarning: invalid value encountered in log1p\n",
      "  result = getattr(ufunc, method)(*inputs, **kwargs)\n"
     ]
    }
   ],
   "source": [
    "#Since the days variable is right skewed, we can try transformation on it for improvising its skewness.\n",
    "train[\"total_days_stayed\"] = np.log1p(train[\"total_days_stayed\"])\n",
    "test[\"total_days_stayed\"] = np.log1p(test[\"total_days_stayed\"])"
   ]
  },
  {
   "cell_type": "code",
   "execution_count": 14,
   "metadata": {},
   "outputs": [
    {
     "name": "stdout",
     "output_type": "stream",
     "text": [
      "<class 'pandas.core.frame.DataFrame'>\n",
      "RangeIndex: 18834 entries, 0 to 18833\n",
      "Data columns (total 15 columns):\n",
      " #   Column                Non-Null Count  Dtype          \n",
      "---  ------                --------------  -----          \n",
      " 0   pet_id                18834 non-null  object         \n",
      " 1   issue_date            18834 non-null  datetime64[ns] \n",
      " 2   listing_date          18834 non-null  datetime64[ns] \n",
      " 3   condition             18834 non-null  float64        \n",
      " 4   color_type            18834 non-null  int32          \n",
      " 5   length(m)             18834 non-null  float64        \n",
      " 6   height(cm)            18834 non-null  float64        \n",
      " 7   X1                    18834 non-null  int64          \n",
      " 8   X2                    18834 non-null  int64          \n",
      " 9   breed_category        18834 non-null  float64        \n",
      " 10  pet_category          18834 non-null  int64          \n",
      " 11  days_stayed           18834 non-null  timedelta64[ns]\n",
      " 12  total_days_stayed     18832 non-null  float64        \n",
      " 13  total_hours_stayed    18834 non-null  float64        \n",
      " 14  condition_is_missing  18834 non-null  int32          \n",
      "dtypes: datetime64[ns](2), float64(6), int32(2), int64(3), object(1), timedelta64[ns](1)\n",
      "memory usage: 2.0+ MB\n"
     ]
    }
   ],
   "source": [
    "train.info()"
   ]
  },
  {
   "cell_type": "code",
   "execution_count": 15,
   "metadata": {},
   "outputs": [],
   "source": [
    "#we can see there are two null values in the total days column so i will fill it with the median value.\n",
    "\n",
    "train[\"total_days_stayed\"].fillna(0, inplace = True)"
   ]
  },
  {
   "cell_type": "code",
   "execution_count": 17,
   "metadata": {},
   "outputs": [
    {
     "data": {
      "image/png": "[encoded data removed]",
      "text/plain": [
       "<Figure size 1080x432 with 3 Axes>"
      ]
     },
     "metadata": {
      "needs_background": "light"
     },
     "output_type": "display_data"
    }
   ],
   "source": [
    "cols = [\"length(m)\",\"height(cm)\",\"total_days_stayed\"]\n",
    "fig, ax = plt.subplots(1,3,figsize=(15,6),squeeze=False)\n",
    "for i in np.arange(3):\n",
    "    sns.distplot(train[cols[i]], ax=ax[0][i], color=\"green\")\n",
    "plt.show()"
   ]
  },
  {
   "cell_type": "markdown",
   "metadata": {},
   "source": [
    "# Feature Selection and checking the correlation"
   ]
  },
  {
   "cell_type": "code",
   "execution_count": 40,
   "metadata": {},
   "outputs": [
    {
     "data": {
      "text/html": [
       "<div>\n",
       "<style scoped>\n",
       "    .dataframe tbody tr th:only-of-type {\n",
       "        vertical-align: middle;\n",
       "    }\n",
       "\n",
       "    .dataframe tbody tr th {\n",
       "        vertical-align: top;\n",
       "    }\n",
       "\n",
       "    .dataframe thead th {\n",
       "        text-align: right;\n",
       "    }\n",
       "</style>\n",
       "<table border=\"1\" class=\"dataframe\">\n",
       "  <thead>\n",
       "    <tr style=\"text-align: right;\">\n",
       "      <th></th>\n",
       "      <th>condition</th>\n",
       "      <th>color_type</th>\n",
       "      <th>length(m)</th>\n",
       "      <th>height(cm)</th>\n",
       "      <th>X1</th>\n",
       "      <th>X2</th>\n",
       "      <th>breed_category</th>\n",
       "      <th>pet_category</th>\n",
       "      <th>total_days_stayed</th>\n",
       "      <th>total_hours_stayed</th>\n",
       "      <th>condition_is_missing</th>\n",
       "    </tr>\n",
       "  </thead>\n",
       "  <tbody>\n",
       "    <tr>\n",
       "      <th>condition</th>\n",
       "      <td>1.000000</td>\n",
       "      <td>-0.067944</td>\n",
       "      <td>-0.006069</td>\n",
       "      <td>-0.006080</td>\n",
       "      <td>0.457061</td>\n",
       "      <td>0.359141</td>\n",
       "      <td>0.103387</td>\n",
       "      <td>0.196044</td>\n",
       "      <td>-0.241931</td>\n",
       "      <td>-0.137808</td>\n",
       "      <td>0.609781</td>\n",
       "    </tr>\n",
       "    <tr>\n",
       "      <th>color_type</th>\n",
       "      <td>-0.067944</td>\n",
       "      <td>1.000000</td>\n",
       "      <td>0.003170</td>\n",
       "      <td>0.000405</td>\n",
       "      <td>-0.040391</td>\n",
       "      <td>0.012938</td>\n",
       "      <td>-0.014681</td>\n",
       "      <td>0.045452</td>\n",
       "      <td>0.069937</td>\n",
       "      <td>0.016258</td>\n",
       "      <td>-0.067844</td>\n",
       "    </tr>\n",
       "    <tr>\n",
       "      <th>length(m)</th>\n",
       "      <td>-0.006069</td>\n",
       "      <td>0.003170</td>\n",
       "      <td>1.000000</td>\n",
       "      <td>-0.004464</td>\n",
       "      <td>-0.002893</td>\n",
       "      <td>-0.011175</td>\n",
       "      <td>0.007229</td>\n",
       "      <td>-0.003999</td>\n",
       "      <td>-0.004409</td>\n",
       "      <td>-0.001713</td>\n",
       "      <td>0.004034</td>\n",
       "    </tr>\n",
       "    <tr>\n",
       "      <th>height(cm)</th>\n",
       "      <td>-0.006080</td>\n",
       "      <td>0.000405</td>\n",
       "      <td>-0.004464</td>\n",
       "      <td>1.000000</td>\n",
       "      <td>-0.003801</td>\n",
       "      <td>-0.008216</td>\n",
       "      <td>0.011647</td>\n",
       "      <td>0.001976</td>\n",
       "      <td>0.001485</td>\n",
       "      <td>0.005612</td>\n",
       "      <td>0.003509</td>\n",
       "    </tr>\n",
       "    <tr>\n",
       "      <th>X1</th>\n",
       "      <td>0.457061</td>\n",
       "      <td>-0.040391</td>\n",
       "      <td>-0.002893</td>\n",
       "      <td>-0.003801</td>\n",
       "      <td>1.000000</td>\n",
       "      <td>0.584396</td>\n",
       "      <td>0.240729</td>\n",
       "      <td>-0.032594</td>\n",
       "      <td>-0.184061</td>\n",
       "      <td>-0.344305</td>\n",
       "      <td>0.345081</td>\n",
       "    </tr>\n",
       "    <tr>\n",
       "      <th>X2</th>\n",
       "      <td>0.359141</td>\n",
       "      <td>0.012938</td>\n",
       "      <td>-0.011175</td>\n",
       "      <td>-0.008216</td>\n",
       "      <td>0.584396</td>\n",
       "      <td>1.000000</td>\n",
       "      <td>0.052530</td>\n",
       "      <td>-0.032116</td>\n",
       "      <td>0.073762</td>\n",
       "      <td>-0.268929</td>\n",
       "      <td>0.106470</td>\n",
       "    </tr>\n",
       "    <tr>\n",
       "      <th>breed_category</th>\n",
       "      <td>0.103387</td>\n",
       "      <td>-0.014681</td>\n",
       "      <td>0.007229</td>\n",
       "      <td>0.011647</td>\n",
       "      <td>0.240729</td>\n",
       "      <td>0.052530</td>\n",
       "      <td>1.000000</td>\n",
       "      <td>0.209230</td>\n",
       "      <td>-0.146111</td>\n",
       "      <td>-0.048920</td>\n",
       "      <td>0.648124</td>\n",
       "    </tr>\n",
       "    <tr>\n",
       "      <th>pet_category</th>\n",
       "      <td>0.196044</td>\n",
       "      <td>0.045452</td>\n",
       "      <td>-0.003999</td>\n",
       "      <td>0.001976</td>\n",
       "      <td>-0.032594</td>\n",
       "      <td>-0.032116</td>\n",
       "      <td>0.209230</td>\n",
       "      <td>1.000000</td>\n",
       "      <td>0.248830</td>\n",
       "      <td>-0.025482</td>\n",
       "      <td>0.360560</td>\n",
       "    </tr>\n",
       "    <tr>\n",
       "      <th>total_days_stayed</th>\n",
       "      <td>-0.241931</td>\n",
       "      <td>0.069937</td>\n",
       "      <td>-0.004409</td>\n",
       "      <td>0.001485</td>\n",
       "      <td>-0.184061</td>\n",
       "      <td>0.073762</td>\n",
       "      <td>-0.146111</td>\n",
       "      <td>0.248830</td>\n",
       "      <td>1.000000</td>\n",
       "      <td>-0.051935</td>\n",
       "      <td>-0.185719</td>\n",
       "    </tr>\n",
       "    <tr>\n",
       "      <th>total_hours_stayed</th>\n",
       "      <td>-0.137808</td>\n",
       "      <td>0.016258</td>\n",
       "      <td>-0.001713</td>\n",
       "      <td>0.005612</td>\n",
       "      <td>-0.344305</td>\n",
       "      <td>-0.268929</td>\n",
       "      <td>-0.048920</td>\n",
       "      <td>-0.025482</td>\n",
       "      <td>-0.051935</td>\n",
       "      <td>1.000000</td>\n",
       "      <td>-0.080784</td>\n",
       "    </tr>\n",
       "    <tr>\n",
       "      <th>condition_is_missing</th>\n",
       "      <td>0.609781</td>\n",
       "      <td>-0.067844</td>\n",
       "      <td>0.004034</td>\n",
       "      <td>0.003509</td>\n",
       "      <td>0.345081</td>\n",
       "      <td>0.106470</td>\n",
       "      <td>0.648124</td>\n",
       "      <td>0.360560</td>\n",
       "      <td>-0.185719</td>\n",
       "      <td>-0.080784</td>\n",
       "      <td>1.000000</td>\n",
       "    </tr>\n",
       "  </tbody>\n",
       "</table>\n",
       "</div>"
      ],
      "text/plain": [
       "                      condition  color_type  length(m)  height(cm)        X1  \\\n",
       "condition              1.000000   -0.067944  -0.006069   -0.006080  0.457061   \n",
       "color_type            -0.067944    1.000000   0.003170    0.000405 -0.040391   \n",
       "length(m)             -0.006069    0.003170   1.000000   -0.004464 -0.002893   \n",
       "height(cm)            -0.006080    0.000405  -0.004464    1.000000 -0.003801   \n",
       "X1                     0.457061   -0.040391  -0.002893   -0.003801  1.000000   \n",
       "X2                     0.359141    0.012938  -0.011175   -0.008216  0.584396   \n",
       "breed_category         0.103387   -0.014681   0.007229    0.011647  0.240729   \n",
       "pet_category           0.196044    0.045452  -0.003999    0.001976 -0.032594   \n",
       "total_days_stayed     -0.241931    0.069937  -0.004409    0.001485 -0.184061   \n",
       "total_hours_stayed    -0.137808    0.016258  -0.001713    0.005612 -0.344305   \n",
       "condition_is_missing   0.609781   -0.067844   0.004034    0.003509  0.345081   \n",
       "\n",
       "                            X2  breed_category  pet_category  \\\n",
       "condition             0.359141        0.103387      0.196044   \n",
       "color_type            0.012938       -0.014681      0.045452   \n",
       "length(m)            -0.011175        0.007229     -0.003999   \n",
       "height(cm)           -0.008216        0.011647      0.001976   \n",
       "X1                    0.584396        0.240729     -0.032594   \n",
       "X2                    1.000000        0.052530     -0.032116   \n",
       "breed_category        0.052530        1.000000      0.209230   \n",
       "pet_category         -0.032116        0.209230      1.000000   \n",
       "total_days_stayed     0.073762       -0.146111      0.248830   \n",
       "total_hours_stayed   -0.268929       -0.048920     -0.025482   \n",
       "condition_is_missing  0.106470        0.648124      0.360560   \n",
       "\n",
       "                      total_days_stayed  total_hours_stayed  \\\n",
       "condition                     -0.241931           -0.137808   \n",
       "color_type                     0.069937            0.016258   \n",
       "length(m)                     -0.004409           -0.001713   \n",
       "height(cm)                     0.001485            0.005612   \n",
       "X1                            -0.184061           -0.344305   \n",
       "X2                             0.073762           -0.268929   \n",
       "breed_category                -0.146111           -0.048920   \n",
       "pet_category                   0.248830           -0.025482   \n",
       "total_days_stayed              1.000000           -0.051935   \n",
       "total_hours_stayed            -0.051935            1.000000   \n",
       "condition_is_missing          -0.185719           -0.080784   \n",
       "\n",
       "                      condition_is_missing  \n",
       "condition                         0.609781  \n",
       "color_type                       -0.067844  \n",
       "length(m)                         0.004034  \n",
       "height(cm)                        0.003509  \n",
       "X1                                0.345081  \n",
       "X2                                0.106470  \n",
       "breed_category                    0.648124  \n",
       "pet_category                      0.360560  \n",
       "total_days_stayed                -0.185719  \n",
       "total_hours_stayed               -0.080784  \n",
       "condition_is_missing              1.000000  "
      ]
     },
     "execution_count": 40,
     "metadata": {},
     "output_type": "execute_result"
    }
   ],
   "source": [
    "train.corr()"
   ]
  },
  {
   "cell_type": "code",
   "execution_count": 41,
   "metadata": {},
   "outputs": [
    {
     "data": {
      "text/plain": [
       "<seaborn.matrix.ClusterGrid at 0x1c60a01f108>"
      ]
     },
     "execution_count": 41,
     "metadata": {},
     "output_type": "execute_result"
    },
    {
     "data": {
      "image/png": "[encoded data removed]",
      "text/plain": [
       "<Figure size 720x720 with 4 Axes>"
      ]
     },
     "metadata": {
      "needs_background": "light"
     },
     "output_type": "display_data"
    }
   ],
   "source": [
    "corrmat = train.corr()\n",
    "cg = sns.clustermap(corrmat, cmap =\"YlGnBu\", linewidths = 0.1,annot = True); \n",
    "plt.setp(cg.ax_heatmap.yaxis.get_majorticklabels(), rotation = 0) \n",
    "  \n",
    "cg "
   ]
  },
  {
   "cell_type": "code",
   "execution_count": 42,
   "metadata": {},
   "outputs": [
    {
     "data": {
      "text/plain": [
       "pet_category            1.000000\n",
       "condition_is_missing    0.360560\n",
       "total_days_stayed       0.248830\n",
       "breed_category          0.209230\n",
       "condition               0.196044\n",
       "color_type              0.045452\n",
       "height(cm)              0.001976\n",
       "length(m)              -0.003999\n",
       "total_hours_stayed     -0.025482\n",
       "X2                     -0.032116\n",
       "X1                     -0.032594\n",
       "Name: pet_category, dtype: float64"
      ]
     },
     "execution_count": 42,
     "metadata": {},
     "output_type": "execute_result"
    }
   ],
   "source": [
    "train.corr()['pet_category'].sort_values(ascending=False)"
   ]
  },
  {
   "cell_type": "code",
   "execution_count": 43,
   "metadata": {},
   "outputs": [
    {
     "data": {
      "text/plain": [
       "breed_category          1.000000\n",
       "condition_is_missing    0.648124\n",
       "X1                      0.240729\n",
       "pet_category            0.209230\n",
       "condition               0.103387\n",
       "X2                      0.052530\n",
       "height(cm)              0.011647\n",
       "length(m)               0.007229\n",
       "color_type             -0.014681\n",
       "total_hours_stayed     -0.048920\n",
       "total_days_stayed      -0.146111\n",
       "Name: breed_category, dtype: float64"
      ]
     },
     "execution_count": 43,
     "metadata": {},
     "output_type": "execute_result"
    }
   ],
   "source": [
    "train.corr()['breed_category'].sort_values(ascending=False)"
   ]
  },
  {
   "cell_type": "code",
   "execution_count": 44,
   "metadata": {},
   "outputs": [
    {
     "data": {
      "text/html": [
       "<div>\n",
       "<style scoped>\n",
       "    .dataframe tbody tr th:only-of-type {\n",
       "        vertical-align: middle;\n",
       "    }\n",
       "\n",
       "    .dataframe tbody tr th {\n",
       "        vertical-align: top;\n",
       "    }\n",
       "\n",
       "    .dataframe thead th {\n",
       "        text-align: right;\n",
       "    }\n",
       "</style>\n",
       "<table border=\"1\" class=\"dataframe\">\n",
       "  <thead>\n",
       "    <tr style=\"text-align: right;\">\n",
       "      <th></th>\n",
       "      <th>pet_id</th>\n",
       "      <th>issue_date</th>\n",
       "      <th>listing_date</th>\n",
       "      <th>condition</th>\n",
       "      <th>color_type</th>\n",
       "      <th>length(m)</th>\n",
       "      <th>height(cm)</th>\n",
       "      <th>X1</th>\n",
       "      <th>X2</th>\n",
       "      <th>breed_category</th>\n",
       "      <th>pet_category</th>\n",
       "      <th>days_stayed</th>\n",
       "      <th>total_days_stayed</th>\n",
       "      <th>total_hours_stayed</th>\n",
       "      <th>condition_is_missing</th>\n",
       "    </tr>\n",
       "  </thead>\n",
       "  <tbody>\n",
       "    <tr>\n",
       "      <th>0</th>\n",
       "      <td>ANSL_69903</td>\n",
       "      <td>2016-07-10</td>\n",
       "      <td>2016-09-21 16:25:00</td>\n",
       "      <td>2.0</td>\n",
       "      <td>18</td>\n",
       "      <td>0.80</td>\n",
       "      <td>7.78</td>\n",
       "      <td>13</td>\n",
       "      <td>9</td>\n",
       "      <td>0.0</td>\n",
       "      <td>1</td>\n",
       "      <td>73 days 16:25:00</td>\n",
       "      <td>4.304065</td>\n",
       "      <td>16.42</td>\n",
       "      <td>0</td>\n",
       "    </tr>\n",
       "    <tr>\n",
       "      <th>1</th>\n",
       "      <td>ANSL_66892</td>\n",
       "      <td>2013-11-21</td>\n",
       "      <td>2018-12-27 17:47:00</td>\n",
       "      <td>1.0</td>\n",
       "      <td>53</td>\n",
       "      <td>0.72</td>\n",
       "      <td>14.19</td>\n",
       "      <td>13</td>\n",
       "      <td>9</td>\n",
       "      <td>0.0</td>\n",
       "      <td>2</td>\n",
       "      <td>1862 days 17:47:00</td>\n",
       "      <td>7.529943</td>\n",
       "      <td>17.78</td>\n",
       "      <td>0</td>\n",
       "    </tr>\n",
       "    <tr>\n",
       "      <th>2</th>\n",
       "      <td>ANSL_69750</td>\n",
       "      <td>2014-09-28</td>\n",
       "      <td>2016-10-19 08:24:00</td>\n",
       "      <td>3.0</td>\n",
       "      <td>15</td>\n",
       "      <td>0.15</td>\n",
       "      <td>40.90</td>\n",
       "      <td>15</td>\n",
       "      <td>4</td>\n",
       "      <td>2.0</td>\n",
       "      <td>4</td>\n",
       "      <td>752 days 08:24:00</td>\n",
       "      <td>6.624065</td>\n",
       "      <td>8.40</td>\n",
       "      <td>1</td>\n",
       "    </tr>\n",
       "    <tr>\n",
       "      <th>3</th>\n",
       "      <td>ANSL_71623</td>\n",
       "      <td>2016-12-31</td>\n",
       "      <td>2019-01-25 18:30:00</td>\n",
       "      <td>1.0</td>\n",
       "      <td>53</td>\n",
       "      <td>0.62</td>\n",
       "      <td>17.82</td>\n",
       "      <td>0</td>\n",
       "      <td>1</td>\n",
       "      <td>0.0</td>\n",
       "      <td>2</td>\n",
       "      <td>755 days 18:30:00</td>\n",
       "      <td>6.628041</td>\n",
       "      <td>18.50</td>\n",
       "      <td>0</td>\n",
       "    </tr>\n",
       "    <tr>\n",
       "      <th>4</th>\n",
       "      <td>ANSL_57969</td>\n",
       "      <td>2017-09-28</td>\n",
       "      <td>2017-11-19 09:38:00</td>\n",
       "      <td>2.0</td>\n",
       "      <td>2</td>\n",
       "      <td>0.50</td>\n",
       "      <td>11.06</td>\n",
       "      <td>18</td>\n",
       "      <td>4</td>\n",
       "      <td>0.0</td>\n",
       "      <td>1</td>\n",
       "      <td>52 days 09:38:00</td>\n",
       "      <td>3.970292</td>\n",
       "      <td>9.63</td>\n",
       "      <td>0</td>\n",
       "    </tr>\n",
       "  </tbody>\n",
       "</table>\n",
       "</div>"
      ],
      "text/plain": [
       "       pet_id issue_date        listing_date  condition  color_type  \\\n",
       "0  ANSL_69903 2016-07-10 2016-09-21 16:25:00        2.0          18   \n",
       "1  ANSL_66892 2013-11-21 2018-12-27 17:47:00        1.0          53   \n",
       "2  ANSL_69750 2014-09-28 2016-10-19 08:24:00        3.0          15   \n",
       "3  ANSL_71623 2016-12-31 2019-01-25 18:30:00        1.0          53   \n",
       "4  ANSL_57969 2017-09-28 2017-11-19 09:38:00        2.0           2   \n",
       "\n",
       "   length(m)  height(cm)  X1  X2  breed_category  pet_category  \\\n",
       "0       0.80        7.78  13   9             0.0             1   \n",
       "1       0.72       14.19  13   9             0.0             2   \n",
       "2       0.15       40.90  15   4             2.0             4   \n",
       "3       0.62       17.82   0   1             0.0             2   \n",
       "4       0.50       11.06  18   4             0.0             1   \n",
       "\n",
       "         days_stayed  total_days_stayed  total_hours_stayed  \\\n",
       "0   73 days 16:25:00           4.304065               16.42   \n",
       "1 1862 days 17:47:00           7.529943               17.78   \n",
       "2  752 days 08:24:00           6.624065                8.40   \n",
       "3  755 days 18:30:00           6.628041               18.50   \n",
       "4   52 days 09:38:00           3.970292                9.63   \n",
       "\n",
       "   condition_is_missing  \n",
       "0                     0  \n",
       "1                     0  \n",
       "2                     1  \n",
       "3                     0  \n",
       "4                     0  "
      ]
     },
     "execution_count": 44,
     "metadata": {},
     "output_type": "execute_result"
    }
   ],
   "source": [
    "train.head()"
   ]
  },
  {
   "cell_type": "code",
   "execution_count": 45,
   "metadata": {},
   "outputs": [],
   "source": [
    "#dividing the data into the target variables and the independent variables.\n",
    "\n",
    "X=train.drop(['pet_id', 'issue_date', 'listing_date','breed_category', 'pet_category','days_stayed'],axis=1)\n",
    "y=train[\"pet_category\"]"
   ]
  },
  {
   "cell_type": "code",
   "execution_count": 46,
   "metadata": {},
   "outputs": [
    {
     "name": "stdout",
     "output_type": "stream",
     "text": [
      "[0.0470589  0.22929896 0.08815503 0.09132475 0.11596553 0.06671109\n",
      " 0.21219768 0.10147996 0.0478081 ]\n"
     ]
    }
   ],
   "source": [
    "from sklearn.ensemble import ExtraTreesClassifier\n",
    "import matplotlib.pyplot as plt\n",
    "model=ExtraTreesClassifier()\n",
    "model.fit(X,y)\n",
    "print(model.feature_importances_)"
   ]
  },
  {
   "cell_type": "code",
   "execution_count": 47,
   "metadata": {},
   "outputs": [
    {
     "data": {
      "image/png": "[encoded data removed]",
      "text/plain": [
       "<Figure size 432x288 with 1 Axes>"
      ]
     },
     "metadata": {
      "needs_background": "light"
     },
     "output_type": "display_data"
    }
   ],
   "source": [
    "#this shows the importance of different dependent variables.\n",
    "\n",
    "ranked_features=pd.Series(model.feature_importances_,index=X.columns)\n",
    "ranked_features.nlargest(9).plot(kind='barh')\n",
    "plt.show()"
   ]
  },
  {
   "cell_type": "markdown",
   "metadata": {},
   "source": [
    "# Preparing and training the model"
   ]
  },
  {
   "cell_type": "code",
   "execution_count": 48,
   "metadata": {},
   "outputs": [],
   "source": [
    "from sklearn.model_selection import train_test_split\n",
    "\n",
    "X_train, X_test, y_train, y_test = train_test_split(X, y, random_state=0,test_size=0.20)"
   ]
  },
  {
   "cell_type": "code",
   "execution_count": 49,
   "metadata": {},
   "outputs": [],
   "source": [
    "from sklearn.model_selection import RandomizedSearchCV, GridSearchCV\n",
    "from sklearn.metrics import roc_auc_score\n",
    "from sklearn.model_selection import StratifiedKFold\n",
    "from xgboost import XGBClassifier"
   ]
  },
  {
   "cell_type": "code",
   "execution_count": 50,
   "metadata": {},
   "outputs": [],
   "source": [
    "from sklearn.metrics import classification_report\n",
    "from sklearn.metrics import accuracy_score\n",
    "from pandas.plotting import scatter_matrix"
   ]
  },
  {
   "cell_type": "code",
   "execution_count": 51,
   "metadata": {},
   "outputs": [],
   "source": [
    "params = {\n",
    "        'min_child_weight': [1, 5, 10],\n",
    "        'gamma': [0.5, 1, 1.5, 2, 5],\n",
    "        'subsample': [0.6, 0.8, 1.0],\n",
    "        'colsample_bytree': [0.6, 0.8, 1.0],\n",
    "        'max_depth': [3, 4, 5]\n",
    "        }\n",
    "xgb = XGBClassifier(learning_rate=0.01, n_estimators=600,\n",
    "                    silent=True, nthread=10)"
   ]
  },
  {
   "cell_type": "code",
   "execution_count": 52,
   "metadata": {},
   "outputs": [],
   "source": [
    "folds = 5\n",
    "param_comb = 5\n",
    "\n",
    "skf = StratifiedKFold(n_splits=folds, shuffle = True, random_state = 1001)\n",
    "\n",
    "grid = RandomizedSearchCV(xgb, param_distributions=params, n_iter=param_comb, scoring='f1_weighted', n_jobs=4, cv=5, verbose=3, random_state=1001 )\n"
   ]
  },
  {
   "cell_type": "code",
   "execution_count": 53,
   "metadata": {
    "scrolled": true
   },
   "outputs": [
    {
     "name": "stdout",
     "output_type": "stream",
     "text": [
      "Fitting 5 folds for each of 5 candidates, totalling 25 fits\n"
     ]
    },
    {
     "name": "stderr",
     "output_type": "stream",
     "text": [
      "[Parallel(n_jobs=4)]: Using backend LokyBackend with 4 concurrent workers.\n",
      "[Parallel(n_jobs=4)]: Done  25 out of  25 | elapsed:  2.6min finished\n"
     ]
    },
    {
     "name": "stdout",
     "output_type": "stream",
     "text": [
      "{'subsample': 0.8, 'min_child_weight': 5, 'max_depth': 5, 'gamma': 1, 'colsample_bytree': 0.8}\n",
      "XGBClassifier(colsample_bytree=0.8, gamma=1, learning_rate=0.01, max_depth=5,\n",
      "              min_child_weight=5, n_estimators=600, nthread=10,\n",
      "              objective='multi:softprob', silent=True, subsample=0.8)\n"
     ]
    }
   ],
   "source": [
    "grid.fit(X_train, y_train)\n",
    "# print best parameter after tuning \n",
    "print(grid.best_params_) \n",
    "  \n",
    "# print how our model looks after hyper-parameter tuning \n",
    "print(grid.best_estimator_)"
   ]
  },
  {
   "cell_type": "code",
   "execution_count": 54,
   "metadata": {},
   "outputs": [],
   "source": [
    "xgb=grid.best_estimator_"
   ]
  },
  {
   "cell_type": "code",
   "execution_count": 55,
   "metadata": {},
   "outputs": [
    {
     "name": "stdout",
     "output_type": "stream",
     "text": [
      "F1 score: 0.8996807927652782\n"
     ]
    }
   ],
   "source": [
    "xgb.fit(X_train,y_train)\n",
    "\n",
    "predictions = xgb.predict(X_test)\n",
    "\n",
    "\n",
    "from sklearn.metrics import f1_score\n",
    "print ('F1 score:', f1_score(y_test, predictions,average='weighted'))\n",
    "                         "
   ]
  },
  {
   "cell_type": "code",
   "execution_count": 56,
   "metadata": {},
   "outputs": [],
   "source": [
    "x_test=test.drop(['pet_id', 'issue_date', 'listing_date','days_stayed'],axis=1)"
   ]
  },
  {
   "cell_type": "code",
   "execution_count": 57,
   "metadata": {},
   "outputs": [],
   "source": [
    "predicted_rfc_pc=xgb.predict(x_test)"
   ]
  },
  {
   "cell_type": "code",
   "execution_count": 58,
   "metadata": {},
   "outputs": [],
   "source": [
    "X=train.drop(['pet_id', 'issue_date', 'listing_date','breed_category', 'pet_category','days_stayed'],axis=1)\n",
    "y=train[\"breed_category\"]"
   ]
  },
  {
   "cell_type": "code",
   "execution_count": 59,
   "metadata": {},
   "outputs": [],
   "source": [
    "from sklearn.model_selection import train_test_split\n",
    "\n",
    "X_train, X_test, y_train, y_test = train_test_split(X, y, random_state=0,test_size=0.20)"
   ]
  },
  {
   "cell_type": "code",
   "execution_count": 60,
   "metadata": {},
   "outputs": [],
   "source": [
    "params = {\n",
    "        'min_child_weight': [1, 5, 10],\n",
    "        'gamma': [0.5, 1, 1.5, 2, 5],\n",
    "        'subsample': [0.6, 0.8, 1.0],\n",
    "        'colsample_bytree': [0.6, 0.8, 1.0],\n",
    "        'max_depth': [3, 4, 5]\n",
    "        }\n",
    "xgb = XGBClassifier(learning_rate=0.01, n_estimators=600,\n",
    "                    silent=True, nthread=10)"
   ]
  },
  {
   "cell_type": "code",
   "execution_count": 61,
   "metadata": {},
   "outputs": [],
   "source": [
    "folds = 5\n",
    "param_comb = 5\n",
    "\n",
    "skf = StratifiedKFold(n_splits=folds, shuffle = True, random_state = 1001)\n",
    "\n",
    "grid = RandomizedSearchCV(xgb, param_distributions=params, n_iter=param_comb, scoring='f1_weighted', n_jobs=4, cv=3, verbose=3, random_state=1001 )\n"
   ]
  },
  {
   "cell_type": "code",
   "execution_count": 62,
   "metadata": {},
   "outputs": [
    {
     "name": "stdout",
     "output_type": "stream",
     "text": [
      "Fitting 3 folds for each of 5 candidates, totalling 15 fits\n"
     ]
    },
    {
     "name": "stderr",
     "output_type": "stream",
     "text": [
      "[Parallel(n_jobs=4)]: Using backend LokyBackend with 4 concurrent workers.\n",
      "[Parallel(n_jobs=4)]: Done  15 out of  15 | elapsed:   48.2s finished\n"
     ]
    },
    {
     "name": "stdout",
     "output_type": "stream",
     "text": [
      "{'subsample': 0.6, 'min_child_weight': 1, 'max_depth': 5, 'gamma': 1.5, 'colsample_bytree': 0.8}\n",
      "XGBClassifier(colsample_bytree=0.8, gamma=1.5, learning_rate=0.01, max_depth=5,\n",
      "              n_estimators=600, nthread=10, objective='multi:softprob',\n",
      "              silent=True, subsample=0.6)\n"
     ]
    }
   ],
   "source": [
    "grid.fit(X_train, y_train)\n",
    "# print best parameter after tuning \n",
    "print(grid.best_params_) \n",
    "  \n",
    "# print how our model looks after hyper-parameter tuning \n",
    "print(grid.best_estimator_)"
   ]
  },
  {
   "cell_type": "code",
   "execution_count": 63,
   "metadata": {},
   "outputs": [],
   "source": [
    "xg=grid.best_estimator_"
   ]
  },
  {
   "cell_type": "code",
   "execution_count": 64,
   "metadata": {},
   "outputs": [
    {
     "name": "stdout",
     "output_type": "stream",
     "text": [
      "F1 score: 0.910356750654202\n"
     ]
    }
   ],
   "source": [
    "xg.fit(X_train,y_train)\n",
    "\n",
    "predictions = xg.predict(X_test)\n",
    "\n",
    "\n",
    "from sklearn.metrics import f1_score\n",
    "print ('F1 score:', f1_score(y_test, predictions,average='weighted'))\n",
    "                              "
   ]
  },
  {
   "cell_type": "code",
   "execution_count": 65,
   "metadata": {},
   "outputs": [],
   "source": [
    "predicted_rfc_bc=xg.predict(x_test)"
   ]
  },
  {
   "cell_type": "code",
   "execution_count": 66,
   "metadata": {},
   "outputs": [],
   "source": [
    "id=pd.Series(test[\"pet_id\"])\n",
    "submission=pd.DataFrame({'pet_id':id,'breed_category':predicted_rfc_bc,'pet_category':predicted_rfc_pc})\n",
    "submission.to_csv(\"submission123.csv\",index=False)"
   ]
  },
  {
   "cell_type": "code",
   "execution_count": null,
   "metadata": {},
   "outputs": [],
   "source": []
  }
 ],
 "metadata": {
  "kernelspec": {
   "display_name": "Python 3",
   "language": "python",
   "name": "python3"
  },
  "language_info": {
   "codemirror_mode": {
    "name": "ipython",
    "version": 3
   },
   "file_extension": ".py",
   "mimetype": "text/x-python",
   "name": "python",
   "nbconvert_exporter": "python",
   "pygments_lexer": "ipython3",
   "version": "3.7.6"
  }
 },
 "nbformat": 4,
 "nbformat_minor": 4
}
